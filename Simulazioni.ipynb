{
 "cells": [
  {
   "cell_type": "code",
   "execution_count": 13,
   "metadata": {},
   "outputs": [
    {
     "name": "stdout",
     "output_type": "stream",
     "text": [
      "{1991: 2.153269782, 1992: 2.04295046, 1993: 1.960605046, 1994: 1.88701159, 1995: 1.790333582, 1996: 1.723131456, 1997: 1.694327883, 1998: 1.66436923, 1999: 1.638158695, 2000: 1.5966459, 2001: 1.554669816, 2002: 1.518232243, 2003: 1.481202184, 2004: 1.452159004, 2005: 1.427884962, 2006: 1.399887222, 2007: 1.376486937, 2008: 1.333805172, 2009: 1.324533439, 2010: 1.303674644, 2011: 1.26940082, 2012: 1.232427983, 2013: 1.219018778, 2014: 1.216585607, 2015: 1.216585607, 2016: 1.216585607, 2017: 1.20334877, 2018: 1.190255958, 2019: 1.184334285, 2020: 1.184334285, 2021: 1.162251506, 2022: 1.07516328, 2023: 1.020079013, 2024: 1.0}\n"
     ]
    }
   ],
   "source": [
    "import pandas as pd\n",
    "import numpy as np\n",
    "\n",
    "# Load the CSV file\n",
    "df = pd.read_csv('coeff_rivalu.csv')\n",
    "\n",
    "# Convert to dictionary (Anno as key, Coeff_Tazionerivalu as value)\n",
    "coeff_dict = dict(zip(df['anno'], df['coeff_rivalu']))\n",
    "\n",
    "# Print the dictionary\n",
    "print(coeff_dict)\n"
   ]
  },
  {
   "cell_type": "code",
   "execution_count": null,
   "metadata": {},
   "outputs": [
    {
     "name": "stdout",
     "output_type": "stream",
     "text": [
      "1.554669816\n"
     ]
    }
   ],
   "source": [
    "anni_list = np.arange(1991, 2025, 1)\n",
    "print(coeff_dict[anni_list[10]])  \n"
   ]
  },
  {
   "cell_type": "code",
   "execution_count": null,
   "metadata": {},
   "outputs": [],
   "source": [
    "stipendio_iniziale = 10000\n",
    "crescita_stipendio_annuale = 3 # in percentuale, i.e. 3 per 3/100\n"
   ]
  }
 ],
 "metadata": {
  "kernelspec": {
   "display_name": "base",
   "language": "python",
   "name": "python3"
  },
  "language_info": {
   "codemirror_mode": {
    "name": "ipython",
    "version": 3
   },
   "file_extension": ".py",
   "mimetype": "text/x-python",
   "name": "python",
   "nbconvert_exporter": "python",
   "pygments_lexer": "ipython3",
   "version": "3.12.7"
  }
 },
 "nbformat": 4,
 "nbformat_minor": 2
}
