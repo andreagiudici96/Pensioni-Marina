{
 "cells": [
  {
   "cell_type": "code",
   "execution_count": 127,
   "metadata": {},
   "outputs": [],
   "source": [
    "import pandas as pd\n",
    "import numpy as np\n",
    "\n",
    "# Load the CSV file with pandas\n",
    "df = pd.read_csv('coeff_rivalu.csv')\n",
    "\n",
    "year_list = np.arange(1991, 2025, 1)\n",
    "\n",
    "# Extract coeff_tazionerivalu values for the years in anni_list\n",
    "cumulative_inflation = df[df['anno'].isin(year_list)]['coeff_rivalu'].values\n",
    "\n"
   ]
  },
  {
   "cell_type": "code",
   "execution_count": 128,
   "metadata": {},
   "outputs": [],
   "source": [
    "initial_effective_wage = 10000\n",
    "average_inflation_growth = np.full(len(year_list),  1.005)\n",
    "average_yearly_growth = 3 # in percentage, i.e. 3 means 3/100\n",
    "variance = 0 # in percentage, i.e. 1 per 1/100\n"
   ]
  },
  {
   "cell_type": "code",
   "execution_count": 129,
   "metadata": {},
   "outputs": [],
   "source": [
    "average_inflation_growth[0] = 1  # Start from 1 for the first year\n",
    "cumulative_inflation = np.cumprod(average_inflation_growth)[::-1]"
   ]
  },
  {
   "cell_type": "code",
   "execution_count": 130,
   "metadata": {},
   "outputs": [
    {
     "name": "stdout",
     "output_type": "stream",
     "text": [
      "[1.68846617 1.66187615 1.63570487 1.60994574 1.58459226 1.55963805\n",
      " 1.53507682 1.51090238 1.48710865 1.46368961 1.44063938 1.41795215\n",
      " 1.39562219 1.37364389 1.3520117  1.33072018 1.30976396 1.28913775\n",
      " 1.26883637 1.2488547  1.22918769 1.20983041 1.19077796 1.17202555\n",
      " 1.15356846 1.13540202 1.11752168 1.09992291 1.08260129 1.06555245\n",
      " 1.0487721  1.032256   1.016      1.        ]\n"
     ]
    }
   ],
   "source": [
    "print(cumulative_average_inflation)"
   ]
  },
  {
   "cell_type": "code",
   "execution_count": 131,
   "metadata": {},
   "outputs": [],
   "source": [
    "yearly_wadge = np.array([])\n",
    "growth_coefficient_yearly = 1 + np.random.normal(loc=average_yearly_growth / 100, scale=variance / 100, size=len(year_list))\n",
    "growth_coefficient_yearly[0] = 1  # Start from 1 for the first year\n",
    "cumulative_growth_coefficient = np.cumprod(growth_coefficient_yearly)\n"
   ]
  },
  {
   "cell_type": "code",
   "execution_count": 132,
   "metadata": {},
   "outputs": [],
   "source": [
    "structured_array = np.array(list(zip(year_list, cumulative_inflation, cumulative_growth_coefficient)), dtype=[('Year', 'i4'), ('Cumulative Inflation', 'f8'), ('Cumulative Growth', 'f8')])"
   ]
  },
  {
   "cell_type": "code",
   "execution_count": 133,
   "metadata": {},
   "outputs": [
    {
     "name": "stdout",
     "output_type": "stream",
     "text": [
      "[(1991, 10000.        , 11789.0833432 , 1.17890833, 1.        )\n",
      " (1992, 10300.        , 12082.34412288, 1.17304312, 1.03      )\n",
      " (1993, 10609.        , 12382.89994683, 1.16720708, 1.0609    )\n",
      " (1994, 10927.27      , 12690.93228382, 1.16140008, 1.092727  )\n",
      " (1995, 11255.0881    , 13006.62711675, 1.15562197, 1.12550881)\n",
      " (1996, 11592.740743  , 13330.17505498, 1.14987261, 1.15927407)\n",
      " (1997, 11940.52296529, 13661.77144938, 1.14415185, 1.1940523 )\n",
      " (1998, 12298.73865425, 14001.61651031, 1.13845955, 1.22987387)\n",
      " (1999, 12667.70081388, 14349.91542848, 1.13279558, 1.26677008)\n",
      " (2000, 13047.73183829, 14706.87849884, 1.12715978, 1.30477318)\n",
      " (2001, 13439.16379344, 15072.72124756, 1.12155202, 1.34391638)\n",
      " (2002, 13842.33870724, 15447.66456218, 1.11597216, 1.38423387)\n",
      " (2003, 14257.60886846, 15831.93482492, 1.11042006, 1.42576089)\n",
      " (2004, 14685.33713452, 16225.76404942, 1.10489558, 1.46853371)\n",
      " (2005, 15125.89724855, 16629.3900208 , 1.09939858, 1.51258972)\n",
      " (2006, 15579.67416601, 17043.05643923, 1.09392894, 1.55796742)\n",
      " (2007, 16047.06439099, 17467.01306707, 1.08848651, 1.60470644)\n",
      " (2008, 16528.47632272, 17901.51587968, 1.08307115, 1.65284763)\n",
      " (2009, 17024.3306124 , 18346.82721997, 1.07768274, 1.70243306)\n",
      " (2010, 17535.06053077, 18803.21595679, 1.07232113, 1.75350605)\n",
      " (2011, 18061.11234669, 19270.95764726, 1.0669862 , 1.80611123)\n",
      " (2012, 18602.94571709, 19750.33470316, 1.06167781, 1.86029457)\n",
      " (2013, 19161.03408861, 20241.63656145, 1.05639583, 1.91610341)\n",
      " (2014, 19735.86511127, 20745.159859  , 1.05114013, 1.97358651)\n",
      " (2015, 20327.9410646 , 21261.20861171, 1.04591058, 2.03279411)\n",
      " (2016, 20937.77929654, 21790.09439807, 1.04070704, 2.09377793)\n",
      " (2017, 21565.91267544, 22332.13654727, 1.0355294 , 2.15659127)\n",
      " (2018, 22212.8900557 , 22887.66233203, 1.03037751, 2.22128901)\n",
      " (2019, 22879.27675737, 23457.00716616, 1.02525125, 2.28792768)\n",
      " (2020, 23565.65506009, 24040.51480711, 1.0201505 , 2.35656551)\n",
      " (2021, 24272.6247119 , 24638.53756351, 1.01507512, 2.42726247)\n",
      " (2022, 25000.80345325, 25251.43650787, 1.010025  , 2.50008035)\n",
      " (2023, 25750.82755685, 25879.58169464, 1.005     , 2.57508276)\n",
      " (2024, 26523.35238356, 26523.35238356, 1.        , 2.65233524)]\n"
     ]
    }
   ],
   "source": [
    "# Function to calculate wages and effective wages from a given starting year to a final year\n",
    "def wages(initial_year, final_year):\n",
    "    # Create lists to store the results\n",
    "    years = np.arange(initial_year, final_year + 1)\n",
    "    wages = []\n",
    "    effective_wages = []\n",
    "    cg = []\n",
    "    ci = []\n",
    "    \n",
    "    # Start from the initial effective wage\n",
    "    initial_wage = initial_effective_wage\n",
    "    initial_growth = 1\n",
    "    \n",
    "    # Create an array for cumulative growth coefficient for the entire period\n",
    "    total_years = final_year - initial_year + 1\n",
    "    growth_coefficient_yearly = 1 + np.random.normal(loc=average_yearly_growth / 100, scale=variance / 100, size=total_years)\n",
    "    growth_coefficient_yearly[0] = 1  # Start from 1 for the first year\n",
    "    cumulative_growth_coefficient = np.cumprod(growth_coefficient_yearly)\n",
    "\n",
    "    # Loop through the years from the start year to the final year\n",
    "    for i in range(len(years)):\n",
    "        if years[i] <= 2024:  # If the year is before or equal to 2024\n",
    "            # Use the cumulative growth and inflation from the original structured data for years <= 2024\n",
    "            cumulative_growth = cumulative_growth_coefficient[i]\n",
    "            cumulative_inflation_value = cumulative_inflation[i]\n",
    "        else:  # If the year is after 2024\n",
    "            # Continue cumulative growth by multiplying previous year's growth by random growth factor\n",
    "            cumulative_growth = cumulative_growth_coefficient[i]\n",
    "            cumulative_inflation_value = 1  # After 2024, cumulative inflation is fixed at 1\n",
    "        \n",
    "        # Calculate the wage and effective wage\n",
    "        wage = initial_wage * cumulative_growth\n",
    "        effective_wage = initial_wage * cumulative_growth * cumulative_inflation_value\n",
    "        \n",
    "        # Append the results\n",
    "        wages.append(wage)\n",
    "        effective_wages.append(effective_wage)\n",
    "        cg.append(cumulative_growth)\n",
    "        ci.append(cumulative_inflation_value)\n",
    "        \n",
    "\n",
    "    # Create a new structured array to return\n",
    "    wage_array = np.array(\n",
    "        list(zip(years, wages, effective_wages, ci, cg)),\n",
    "        dtype=[('Year', 'i4'), ('Wage', 'f8'), ('Effective Wage', 'f8'), ('Cumulative Inflation', 'f8'),\n",
    "               ('Cumulative Growth', 'f8')]\n",
    "    )\n",
    "    \n",
    "    return wage_array\n",
    "\n",
    "\n",
    "# Example usage of the function\n",
    "initial_year = 1991\n",
    "final_year = 2024  # Example final year\n",
    "wage_results = wages(initial_year, final_year)\n",
    "\n",
    "# Display the result\n",
    "print(wage_results)"
   ]
  },
  {
   "cell_type": "code",
   "execution_count": 134,
   "metadata": {},
   "outputs": [
    {
     "name": "stdout",
     "output_type": "stream",
     "text": [
      "[]\n",
      "I1: 0, I2: 0, I3: 11789.08334319999, I4: 17908.49937228929\n"
     ]
    }
   ],
   "source": [
    "import numpy as np\n",
    "\n",
    "# Function to calculate I1, I2, and I3 from the output of the wages function\n",
    "def calculate_I_values(initial_year, final_year):\n",
    "    # Get the wage data for the given initial_year using the wages function\n",
    "    wage_results = wages(initial_year, final_year)\n",
    "    \n",
    "    # Extract the effective wages and years\n",
    "    effective_wages = wage_results['Effective Wage']\n",
    "    years = wage_results['Year']\n",
    "    \n",
    "    # Calculate I1: Average of the best 10 effective wages before or on 2001\n",
    "    # Select the wages before or on 2001\n",
    "    wages_before_2001 = effective_wages[years <= 2001]\n",
    "    print(wages_before_2001)\n",
    "    \n",
    "    # Get the best 10 (or fewer if there are less than 10)\n",
    "    if len(wages_before_2001) > 0:\n",
    "        if len(wages_before_2001) <= 10:\n",
    "            I1 = np.mean(wages_before_2001)  # Average if there are fewer than or exactly 10 wages\n",
    "        else:\n",
    "            I1 = np.mean(wages_before_2001[-10:])  # Average of the last 10 wages if more than 10\n",
    "    else:\n",
    "        I1 = 0  # If no wages before or on 2001, set to 0\n",
    "    \n",
    "    \n",
    "    # Calculate I2: Average of all effective wages before or on 2007\n",
    "    wages_before_2007 = effective_wages[years <= 2007]\n",
    "    if len(wages_before_2007) > 0:\n",
    "        I2 = np.mean(wages_before_2007)\n",
    "    else:\n",
    "        I2 = 0  # If no wages before or on 2007, set to 0\n",
    "    \n",
    "    # Calculate I3: Average of the largest wages minus the 5 smallest ones before 2012\n",
    "    wages_before_2012 = effective_wages[years <= 2012]\n",
    "    if len(wages_before_2012) > 5:\n",
    "        sorted_wages = np.sort(wages_before_2012)\n",
    "        wages_after_removal = sorted_wages[5:]  # Remove the 5 smallest\n",
    "        I3 = np.mean(wages_after_removal)\n",
    "    elif len(wages_before_2012) > 0:\n",
    "        I3 = np.mean(wages_before_2012)  # If fewer than 5 wages, use all of them\n",
    "    else:\n",
    "        I3 = 0  # If no wages before or on 2012, set to 0\n",
    "    \n",
    "    # Calculate I4: Average of all effective wages\n",
    "    if len(effective_wages) > 0:\n",
    "        I4 = np.mean(effective_wages)\n",
    "    else:\n",
    "        I4 = 0  # If no wages, set to 0\n",
    "    \n",
    "    return I1, I2, I3, I4\n",
    "\n",
    "# Example usage\n",
    "initial_year = 2012\n",
    "final_year = 2046\n",
    "I1, I2, I3, I4 = calculate_I_values(initial_year, final_year)\n",
    "\n",
    "print(f\"I1: {I1}, I2: {I2}, I3: {I3}, I4: {I4}\")\n"
   ]
  },
  {
   "cell_type": "code",
   "execution_count": 135,
   "metadata": {},
   "outputs": [
    {
     "data": {
      "text/plain": [
       "np.float64(20.576708945)"
      ]
     },
     "execution_count": 135,
     "metadata": {},
     "output_type": "execute_result"
    }
   ],
   "source": [
    "ent =[ 21.04238974, 20.80005893, 20.61988514, 20.15036219, 19.97581624, 20.231161,   20.46964218, 20.75170423, 20.8326075,20.8934623]\n",
    "np.average(ent)\n",
    "\n",
    "np.average(ent[-10:])"
   ]
  },
  {
   "cell_type": "code",
   "execution_count": 136,
   "metadata": {},
   "outputs": [
    {
     "name": "stdout",
     "output_type": "stream",
     "text": [
      "Calculated Pension (F1): 3600.8\n"
     ]
    }
   ],
   "source": [
    "def calculate_pension_F1(I1, initial_year):\n",
    "    # Constants for the formula\n",
    "    year_2001 = 2001\n",
    "    max_1 = 48300\n",
    "    max_2 = 72700\n",
    "    max_3 = 84500\n",
    "    \n",
    "    # Calculate the difference between 2001 and the initial year\n",
    "    years_difference = year_2001 - initial_year\n",
    "    \n",
    "    # First part: MIN(J5, 48300) * 1.75% * (2001 - initial_year)\n",
    "    part1 = min(I1, max_1) * 0.0175 * years_difference\n",
    "    \n",
    "    # Second part: MAX(MIN(J5, 72700) - 48300, 0) * 1.5% * (2001 - initial_year)\n",
    "    part2 = max(min(I1, max_2) - max_1, 0) * 0.015 * years_difference\n",
    "    \n",
    "    # Third part: MAX(MIN(J5, 84500) - 72700, 0) * 1.3% * (2001 - initial_year)\n",
    "    part3 = max(min(I1, max_3) - max_2, 0) * 0.013 * years_difference\n",
    "    \n",
    "    # Fourth part: MAX(J5 - 84500, 0) * 1.15% * (2001 - initial_year)\n",
    "    part4 = max(I1 - max_3, 0) * 0.0115 * years_difference\n",
    "    \n",
    "    # Final pension value F1\n",
    "    F1 = part1 + part2 + part3 + part4\n",
    "    \n",
    "    return F1\n",
    "\n",
    "# Example usage\n",
    "initial_year = 1991\n",
    "I1 = 20576  # Example I1 value\n",
    "F1 = calculate_pension_F1(I1, initial_year)\n",
    "\n",
    "print(f\"Calculated Pension (F1): {F1}\")\n"
   ]
  },
  {
   "cell_type": "code",
   "execution_count": 137,
   "metadata": {},
   "outputs": [
    {
     "name": "stdout",
     "output_type": "stream",
     "text": [
      "Calculated Pension (F2): 1833.65\n"
     ]
    }
   ],
   "source": [
    "def calculate_pension_F2(I2, initial_year):\n",
    "    # Constants for the formula\n",
    "    year_2007 = 2007\n",
    "    year_2002 = 2002\n",
    "    max_1 = 48300\n",
    "    max_2 = 72700\n",
    "    max_3 = 84500\n",
    "    \n",
    "    # Calculate the difference between 2007 and 2002\n",
    "    years_difference = year_2007 - year_2002\n",
    "    \n",
    "    # First part: MIN(J6, 48300) * 1.75% * (2007 - 2002)\n",
    "    part1 = min(I2, max_1) * 0.0175 * years_difference\n",
    "    \n",
    "    # Second part: MAX(MIN(J6, 72700) - 48300, 0) * 1.5% * (2007 - 2002)\n",
    "    part2 = max(min(I2, max_2) - max_1, 0) * 0.015 * years_difference\n",
    "    \n",
    "    # Third part: MAX(MIN(J6, 84500) - 72700, 0) * 1.3% * (2007 - 2002)\n",
    "    part3 = max(min(I2, max_3) - max_2, 0) * 0.013 * years_difference\n",
    "    \n",
    "    # Fourth part: MAX(J6 - 84500, 0) * 1.15% * (2007 - 2002)\n",
    "    part4 = max(I2 - max_3, 0) * 0.0115 * years_difference\n",
    "    \n",
    "    # Final pension value F2\n",
    "    F2 = part1 + part2 + part3 + part4\n",
    "    \n",
    "    return F2\n",
    "\n",
    "# Example usage\n",
    "initial_year = 1991\n",
    "I2 = 20956  # Example I2 value\n",
    "F2 = calculate_pension_F2(I2, initial_year)\n",
    "\n",
    "print(f\"Calculated Pension (F2): {F2}\")\n"
   ]
  },
  {
   "cell_type": "code",
   "execution_count": 138,
   "metadata": {},
   "outputs": [
    {
     "name": "stdout",
     "output_type": "stream",
     "text": [
      "Calculated Pension (F3): 1504.65\n"
     ]
    }
   ],
   "source": [
    "def calculate_pension_F3(I3, initial_year):\n",
    "    # Constants for the formula\n",
    "    year_2012 = 2012\n",
    "    year_2008 = 2008\n",
    "    max_1 = 48300\n",
    "    \n",
    "    # Calculate the difference between 2012 and 2008\n",
    "    years_difference = year_2012 - year_2008\n",
    "    \n",
    "    # First part: MIN(J7, 48300) * 1.75% * (2012 - 2008)\n",
    "    part1 = min(I3, max_1) * 0.0175 * years_difference\n",
    "    \n",
    "    # Second part: MAX(J7 - 48300, 0) * 1.5% * (2012 - 2008)\n",
    "    part2 = max(I3 - max_1, 0) * 0.015 * years_difference\n",
    "    \n",
    "    # Final pension value F3\n",
    "    F3 = part1 + part2\n",
    "    \n",
    "    return F3\n",
    "\n",
    "# Example usage\n",
    "initial_year = 1991\n",
    "I3 = 21495  # Example I3 value\n",
    "F3 = calculate_pension_F3(I3, initial_year)\n",
    "\n",
    "print(f\"Calculated Pension (F3): {F3}\")\n"
   ]
  },
  {
   "cell_type": "code",
   "execution_count": 139,
   "metadata": {},
   "outputs": [
    {
     "name": "stdout",
     "output_type": "stream",
     "text": [
      "Calculated Pension (F4): 3543.848\n"
     ]
    }
   ],
   "source": [
    "def calculate_pension_F4(I4, final_year):\n",
    "    # Constant for the formula\n",
    "    year_2013 = 2013\n",
    "    \n",
    "    # Calculate the difference between final_year and 2013\n",
    "    years_difference = final_year - year_2013\n",
    "    \n",
    "    # Calculate F4: 1.4% * I4 * (final_year - 2013)\n",
    "    F4 = 0.014 * I4 * years_difference\n",
    "    \n",
    "    return F4\n",
    "\n",
    "# Example usage\n",
    "initial_year = 1991\n",
    "final_year = 2024\n",
    "I4 = 23012  # Example I4 value\n",
    "F4 = calculate_pension_F4(I4, final_year)\n",
    "\n",
    "print(f\"Calculated Pension (F4): {F4}\")\n"
   ]
  },
  {
   "cell_type": "code",
   "execution_count": 140,
   "metadata": {},
   "outputs": [
    {
     "name": "stdout",
     "output_type": "stream",
     "text": [
      "[]\n",
      "Total Pension: 8655.967637995655\n"
     ]
    }
   ],
   "source": [
    "def pensione_retributiva(initial_year, final_year):\n",
    "    # Step 1: Calculate I1, I2, I3, and I4 using the previous functions\n",
    "    I1, I2, I3, I4 = calculate_I_values(initial_year, final_year)\n",
    "    \n",
    "    # Step 2: Calculate F1 using I1\n",
    "    F1 = calculate_pension_F1(I1, initial_year)\n",
    "\n",
    "    F2 = calculate_pension_F2(I2, initial_year)\n",
    "    \n",
    "    # Step 3: Calculate F2 (You can use a similar function for F2 if necessary)\n",
    "    # Assuming you already have the F2 formula similar to the previous ones.\n",
    "    \n",
    "    # Step 4: Calculate F3 using I3\n",
    "    F3 = calculate_pension_F3(I3, initial_year)\n",
    "    \n",
    "    # Step 5: Calculate F4 using I4\n",
    "    F4 = calculate_pension_F4(I4, final_year)\n",
    "    \n",
    "    # Step 6: Sum F1, F2, F3, and F4 to get the total pension\n",
    "    total_pension = F1 +F2+ F3 + F4  # Sum F1 to F4\n",
    "    \n",
    "    return total_pension\n",
    "\n",
    "# Example usage\n",
    "initial_year = 2010\n",
    "final_year = 2044\n",
    "total_pension = pensione_retributiva(initial_year, final_year)\n",
    "\n",
    "print(f\"Total Pension: {total_pension}\")\n"
   ]
  },
  {
   "cell_type": "code",
   "execution_count": 141,
   "metadata": {},
   "outputs": [
    {
     "name": "stdout",
     "output_type": "stream",
     "text": [
      "[11789.0833432  12082.34412288]\n"
     ]
    }
   ],
   "source": [
    "# Example usage\n",
    "initial_year = 2000\n",
    "final_year = 2034\n",
    "total_pension = pensione_retributiva(initial_year, final_year)"
   ]
  }
 ],
 "metadata": {
  "kernelspec": {
   "display_name": "base",
   "language": "python",
   "name": "python3"
  },
  "language_info": {
   "codemirror_mode": {
    "name": "ipython",
    "version": 3
   },
   "file_extension": ".py",
   "mimetype": "text/x-python",
   "name": "python",
   "nbconvert_exporter": "python",
   "pygments_lexer": "ipython3",
   "version": "3.12.7"
  }
 },
 "nbformat": 4,
 "nbformat_minor": 2
}
