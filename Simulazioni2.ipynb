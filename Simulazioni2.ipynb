{
 "cells": [
  {
   "cell_type": "code",
   "execution_count": 90,
   "metadata": {},
   "outputs": [],
   "source": [
    "import pandas as pd\n",
    "import numpy as np\n",
    "\n",
    "# Load the CSV file with pandas\n",
    "df = pd.read_csv('coeff_rivalu.csv')\n",
    "\n",
    "year_list = np.arange(1991, 2025, 1)\n",
    "\n",
    "# Extract coeff_tazionerivalu values for the years in anni_list\n",
    "cumulative_inflation = df[df['anno'].isin(year_list)]['coeff_rivalu'].values\n",
    "\n"
   ]
  },
  {
   "cell_type": "code",
   "execution_count": 91,
   "metadata": {},
   "outputs": [],
   "source": [
    "initial_effective_wage = 20000\n",
    "average_yearly_growth = 3 # in percentage, i.e. 3 means 3/100\n",
    "variance = 0 # in percentage, i.e. 1 per 1/100\n"
   ]
  },
  {
   "cell_type": "code",
   "execution_count": 92,
   "metadata": {},
   "outputs": [],
   "source": [
    "yearly_wadge = np.array([])\n",
    "growth_coefficient_yearly = 1 + np.random.normal(loc=average_yearly_growth / 100, scale=variance / 100, size=len(year_list))\n",
    "growth_coefficient_yearly[0] = 1  # Start from 1 for the first year\n",
    "cumulative_growth_coefficient = np.cumprod(growth_coefficient_yearly)\n"
   ]
  },
  {
   "cell_type": "code",
   "execution_count": 93,
   "metadata": {},
   "outputs": [],
   "source": [
    "structured_array = np.array(list(zip(year_list, cumulative_inflation, cumulative_growth_coefficient)), dtype=[('Year', 'i4'), ('Cumulative Inflation', 'f8'), ('Cumulative Growth', 'f8')])"
   ]
  },
  {
   "cell_type": "code",
   "execution_count": 94,
   "metadata": {},
   "outputs": [
    {
     "name": "stdout",
     "output_type": "stream",
     "text": [
      "[(1991, 20000.        , 43065.39564   , 2.15326978, 1.        )\n",
      " (1992, 20600.        , 42084.779476  , 2.04295046, 1.03      )\n",
      " (1993, 21218.        , 41600.11786603, 1.96060505, 1.0609    )\n",
      " (1994, 21854.54      , 41239.77027412, 1.88701159, 1.092727  )\n",
      " (1995, 22510.1762    , 40300.7243876 , 1.79033358, 1.12550881)\n",
      " (1996, 23185.481486  , 39951.63247103, 1.72313146, 1.15927407)\n",
      " (1997, 23881.04593058, 40462.32199539, 1.69432788, 1.1940523 )\n",
      " (1998, 24597.4773085 , 40939.28436789, 1.66436923, 1.22987387)\n",
      " (1999, 25335.40162775, 41503.40846782, 1.63815869, 1.26677008)\n",
      " (2000, 26095.46367658, 41665.21508782, 1.5966459 , 1.30477318)\n",
      " (2001, 26878.32758688, 41786.92460389, 1.55466982, 1.34391638)\n",
      " (2002, 27684.67741449, 42031.76988773, 1.51823224, 1.38423387)\n",
      " (2003, 28515.21773692, 42236.80278917, 1.48120218, 1.42576089)\n",
      " (2004, 29370.67426903, 42650.88909332, 1.452159  , 1.46853371)\n",
      " (2005, 30251.7944971 , 43196.08243593, 1.42788496, 1.51258972)\n",
      " (2006, 31159.34833202, 43619.57357584, 1.39988722, 1.55796742)\n",
      " (2007, 32094.12878198, 44177.14902279, 1.37648694, 1.60470644)\n",
      " (2008, 33056.95264544, 44091.53440904, 1.33380517, 1.65284763)\n",
      " (2009, 34048.6612248 , 45098.59034543, 1.32453344, 1.70243306)\n",
      " (2010, 35070.12106154, 45720.02758994, 1.30367464, 1.75350605)\n",
      " (2011, 36122.22469339, 45853.58164601, 1.26940082, 1.80611123)\n",
      " (2012, 37205.89143419, 45853.58173596, 1.23242798, 1.86029457)\n",
      " (2013, 38322.06817722, 46715.32071982, 1.21901878, 1.91610341)\n",
      " (2014, 39471.73022253, 48020.73887212, 1.21658561, 1.97358651)\n",
      " (2015, 40655.88212921, 49461.36103828, 1.21658561, 2.03279411)\n",
      " (2016, 41875.55859308, 50945.20186943, 1.21658561, 2.09377793)\n",
      " (2017, 43131.82535088, 51902.62898383, 1.20334877, 2.15659127)\n",
      " (2018, 44425.7801114 , 52878.0494664 , 1.19025596, 2.22128901)\n",
      " (2019, 45758.55351475, 54193.42375952, 1.18433429, 2.28792768)\n",
      " (2020, 47131.31012019, 55819.22647231, 1.18433429, 2.35656551)\n",
      " (2021, 48545.24942379, 56421.78925195, 1.16225151, 2.42726247)\n",
      " (2022, 50001.60690651, 53759.89168687, 1.07516328, 2.50008035)\n",
      " (2023, 51501.6551137 , 52535.75751625, 1.02007901, 2.57508276)\n",
      " (2024, 53046.70476711, 53046.70476711, 1.        , 2.65233524)]\n"
     ]
    }
   ],
   "source": [
    "# Function to calculate wages and effective wages from a given starting year to a final year\n",
    "def wages(initial_year, final_year):\n",
    "    # Create lists to store the results\n",
    "    years = np.arange(initial_year, final_year + 1)\n",
    "    wages = []\n",
    "    effective_wages = []\n",
    "    cg = []\n",
    "    ci = []\n",
    "    \n",
    "    # Start from the initial effective wage\n",
    "    initial_wage = initial_effective_wage\n",
    "    initial_growth = 1\n",
    "    \n",
    "    # Create an array for cumulative growth coefficient for the entire period\n",
    "    total_years = final_year - initial_year + 1\n",
    "    growth_coefficient_yearly = 1 + np.random.normal(loc=average_yearly_growth / 100, scale=variance / 100, size=total_years)\n",
    "    growth_coefficient_yearly[0] = 1  # Start from 1 for the first year\n",
    "    cumulative_growth_coefficient = np.cumprod(growth_coefficient_yearly)\n",
    "\n",
    "    # Loop through the years from the start year to the final year\n",
    "    for i in range(len(years)):\n",
    "        if years[i] <= 2024:  # If the year is before or equal to 2024\n",
    "            # Use the cumulative growth and inflation from the original structured data for years <= 2024\n",
    "            cumulative_growth = cumulative_growth_coefficient[i]\n",
    "            cumulative_inflation_value = cumulative_inflation[i]\n",
    "        else:  # If the year is after 2024\n",
    "            # Continue cumulative growth by multiplying previous year's growth by random growth factor\n",
    "            cumulative_growth = cumulative_growth_coefficient[i]\n",
    "            cumulative_inflation_value = 1  # After 2024, cumulative inflation is fixed at 1\n",
    "        \n",
    "        # Calculate the wage and effective wage\n",
    "        wage = initial_wage * cumulative_growth\n",
    "        effective_wage = initial_wage * cumulative_growth * cumulative_inflation_value\n",
    "        \n",
    "        # Append the results\n",
    "        wages.append(wage)\n",
    "        effective_wages.append(effective_wage)\n",
    "        cg.append(cumulative_growth)\n",
    "        ci.append(cumulative_inflation_value)\n",
    "        \n",
    "\n",
    "    # Create a new structured array to return\n",
    "    wage_array = np.array(\n",
    "        list(zip(years, wages, effective_wages, ci, cg)),\n",
    "        dtype=[('Year', 'i4'), ('Wage', 'f8'), ('Effective Wage', 'f8'), ('Cumulative Inflation', 'f8'),\n",
    "               ('Cumulative Growth', 'f8')]\n",
    "    )\n",
    "    \n",
    "    return wage_array\n",
    "\n",
    "\n",
    "# Example usage of the function\n",
    "initial_year = 1991\n",
    "final_year = 2024  # Example final year\n",
    "wage_results = wages(initial_year, final_year)\n",
    "\n",
    "# Display the result\n",
    "print(wage_results)"
   ]
  },
  {
   "cell_type": "code",
   "execution_count": 95,
   "metadata": {},
   "outputs": [
    {
     "name": "stdout",
     "output_type": "stream",
     "text": [
      "[]\n",
      "I1: 0, I2: 0, I3: 43065.39564, I4: 41021.54213126981\n"
     ]
    }
   ],
   "source": [
    "import numpy as np\n",
    "\n",
    "# Function to calculate I1, I2, and I3 from the output of the wages function\n",
    "def calculate_I_values(initial_year, final_year):\n",
    "    # Get the wage data for the given initial_year using the wages function\n",
    "    wage_results = wages(initial_year, final_year)\n",
    "    \n",
    "    # Extract the effective wages and years\n",
    "    effective_wages = wage_results['Effective Wage']\n",
    "    years = wage_results['Year']\n",
    "    \n",
    "    # Calculate I1: Average of the best 10 effective wages before or on 2001\n",
    "    # Select the wages before or on 2001\n",
    "    wages_before_2001 = effective_wages[years <= 2001]\n",
    "    print(wages_before_2001)\n",
    "    \n",
    "    # Get the best 10 (or fewer if there are less than 10)\n",
    "    if len(wages_before_2001) > 0:\n",
    "        if len(wages_before_2001) <= 10:\n",
    "            I1 = np.mean(wages_before_2001)  # Average if there are fewer than or exactly 10 wages\n",
    "        else:\n",
    "            I1 = np.mean(wages_before_2001[-10:])  # Average of the last 10 wages if more than 10\n",
    "    else:\n",
    "        I1 = 0  # If no wages before or on 2001, set to 0\n",
    "    \n",
    "    \n",
    "    # Calculate I2: Average of all effective wages before or on 2007\n",
    "    wages_before_2007 = effective_wages[years <= 2007]\n",
    "    if len(wages_before_2007) > 0:\n",
    "        I2 = np.mean(wages_before_2007)\n",
    "    else:\n",
    "        I2 = 0  # If no wages before or on 2007, set to 0\n",
    "    \n",
    "    # Calculate I3: Average of the largest wages minus the 5 smallest ones before 2012\n",
    "    wages_before_2012 = effective_wages[years <= 2012]\n",
    "    if len(wages_before_2012) > 5:\n",
    "        sorted_wages = np.sort(wages_before_2012)\n",
    "        wages_after_removal = sorted_wages[5:]  # Remove the 5 smallest\n",
    "        I3 = np.mean(wages_after_removal)\n",
    "    elif len(wages_before_2012) > 0:\n",
    "        I3 = np.mean(wages_before_2012)  # If fewer than 5 wages, use all of them\n",
    "    else:\n",
    "        I3 = 0  # If no wages before or on 2012, set to 0\n",
    "    \n",
    "    # Calculate I4: Average of all effective wages\n",
    "    if len(effective_wages) > 0:\n",
    "        I4 = np.mean(effective_wages)\n",
    "    else:\n",
    "        I4 = 0  # If no wages, set to 0\n",
    "    \n",
    "    return I1, I2, I3, I4\n",
    "\n",
    "# Example usage\n",
    "initial_year = 2012\n",
    "final_year = 2046\n",
    "I1, I2, I3, I4 = calculate_I_values(initial_year, final_year)\n",
    "\n",
    "print(f\"I1: {I1}, I2: {I2}, I3: {I3}, I4: {I4}\")\n"
   ]
  },
  {
   "cell_type": "code",
   "execution_count": 96,
   "metadata": {},
   "outputs": [
    {
     "data": {
      "text/plain": [
       "np.float64(20.576708945)"
      ]
     },
     "execution_count": 96,
     "metadata": {},
     "output_type": "execute_result"
    }
   ],
   "source": [
    "ent =[ 21.04238974, 20.80005893, 20.61988514, 20.15036219, 19.97581624, 20.231161,   20.46964218, 20.75170423, 20.8326075,20.8934623]\n",
    "np.average(ent)\n",
    "\n",
    "np.average(ent[-10:])"
   ]
  },
  {
   "cell_type": "code",
   "execution_count": 97,
   "metadata": {},
   "outputs": [
    {
     "name": "stdout",
     "output_type": "stream",
     "text": [
      "Calculated Pension (F1): 3600.8\n"
     ]
    }
   ],
   "source": [
    "def calculate_pension_F1(I1, initial_year):\n",
    "    # Constants for the formula\n",
    "    year_2001 = 2001\n",
    "    max_1 = 48300\n",
    "    max_2 = 72700\n",
    "    max_3 = 84500\n",
    "    \n",
    "    # Calculate the difference between 2001 and the initial year\n",
    "    years_difference = year_2001 - initial_year\n",
    "    \n",
    "    # First part: MIN(J5, 48300) * 1.75% * (2001 - initial_year)\n",
    "    part1 = min(I1, max_1) * 0.0175 * years_difference\n",
    "    \n",
    "    # Second part: MAX(MIN(J5, 72700) - 48300, 0) * 1.5% * (2001 - initial_year)\n",
    "    part2 = max(min(I1, max_2) - max_1, 0) * 0.015 * years_difference\n",
    "    \n",
    "    # Third part: MAX(MIN(J5, 84500) - 72700, 0) * 1.3% * (2001 - initial_year)\n",
    "    part3 = max(min(I1, max_3) - max_2, 0) * 0.013 * years_difference\n",
    "    \n",
    "    # Fourth part: MAX(J5 - 84500, 0) * 1.15% * (2001 - initial_year)\n",
    "    part4 = max(I1 - max_3, 0) * 0.0115 * years_difference\n",
    "    \n",
    "    # Final pension value F1\n",
    "    F1 = part1 + part2 + part3 + part4\n",
    "    \n",
    "    return F1\n",
    "\n",
    "# Example usage\n",
    "initial_year = 1991\n",
    "I1 = 20576  # Example I1 value\n",
    "F1 = calculate_pension_F1(I1, initial_year)\n",
    "\n",
    "print(f\"Calculated Pension (F1): {F1}\")\n"
   ]
  },
  {
   "cell_type": "code",
   "execution_count": 98,
   "metadata": {},
   "outputs": [
    {
     "name": "stdout",
     "output_type": "stream",
     "text": [
      "Calculated Pension (F2): 1833.65\n"
     ]
    }
   ],
   "source": [
    "def calculate_pension_F2(I2, initial_year):\n",
    "    # Constants for the formula\n",
    "    year_2007 = 2007\n",
    "    year_2002 = 2002\n",
    "    max_1 = 48300\n",
    "    max_2 = 72700\n",
    "    max_3 = 84500\n",
    "    \n",
    "    # Calculate the difference between 2007 and 2002\n",
    "    years_difference = year_2007 - year_2002\n",
    "    \n",
    "    # First part: MIN(J6, 48300) * 1.75% * (2007 - 2002)\n",
    "    part1 = min(I2, max_1) * 0.0175 * years_difference\n",
    "    \n",
    "    # Second part: MAX(MIN(J6, 72700) - 48300, 0) * 1.5% * (2007 - 2002)\n",
    "    part2 = max(min(I2, max_2) - max_1, 0) * 0.015 * years_difference\n",
    "    \n",
    "    # Third part: MAX(MIN(J6, 84500) - 72700, 0) * 1.3% * (2007 - 2002)\n",
    "    part3 = max(min(I2, max_3) - max_2, 0) * 0.013 * years_difference\n",
    "    \n",
    "    # Fourth part: MAX(J6 - 84500, 0) * 1.15% * (2007 - 2002)\n",
    "    part4 = max(I2 - max_3, 0) * 0.0115 * years_difference\n",
    "    \n",
    "    # Final pension value F2\n",
    "    F2 = part1 + part2 + part3 + part4\n",
    "    \n",
    "    return F2\n",
    "\n",
    "# Example usage\n",
    "initial_year = 1991\n",
    "I2 = 20956  # Example I2 value\n",
    "F2 = calculate_pension_F2(I2, initial_year)\n",
    "\n",
    "print(f\"Calculated Pension (F2): {F2}\")\n"
   ]
  },
  {
   "cell_type": "code",
   "execution_count": 99,
   "metadata": {},
   "outputs": [
    {
     "name": "stdout",
     "output_type": "stream",
     "text": [
      "Calculated Pension (F3): 1504.65\n"
     ]
    }
   ],
   "source": [
    "def calculate_pension_F3(I3, initial_year):\n",
    "    # Constants for the formula\n",
    "    year_2012 = 2012\n",
    "    year_2008 = 2008\n",
    "    max_1 = 48300\n",
    "    \n",
    "    # Calculate the difference between 2012 and 2008\n",
    "    years_difference = year_2012 - year_2008\n",
    "    \n",
    "    # First part: MIN(J7, 48300) * 1.75% * (2012 - 2008)\n",
    "    part1 = min(I3, max_1) * 0.0175 * years_difference\n",
    "    \n",
    "    # Second part: MAX(J7 - 48300, 0) * 1.5% * (2012 - 2008)\n",
    "    part2 = max(I3 - max_1, 0) * 0.015 * years_difference\n",
    "    \n",
    "    # Final pension value F3\n",
    "    F3 = part1 + part2\n",
    "    \n",
    "    return F3\n",
    "\n",
    "# Example usage\n",
    "initial_year = 1991\n",
    "I3 = 21495  # Example I3 value\n",
    "F3 = calculate_pension_F3(I3, initial_year)\n",
    "\n",
    "print(f\"Calculated Pension (F3): {F3}\")\n"
   ]
  },
  {
   "cell_type": "code",
   "execution_count": 100,
   "metadata": {},
   "outputs": [
    {
     "name": "stdout",
     "output_type": "stream",
     "text": [
      "Calculated Pension (F4): 3543.848\n"
     ]
    }
   ],
   "source": [
    "def calculate_pension_F4(I4, final_year):\n",
    "    # Constant for the formula\n",
    "    year_2013 = 2013\n",
    "    \n",
    "    # Calculate the difference between final_year and 2013\n",
    "    years_difference = final_year - year_2013\n",
    "    \n",
    "    # Calculate F4: 1.4% * I4 * (final_year - 2013)\n",
    "    F4 = 0.014 * I4 * years_difference\n",
    "    \n",
    "    return F4\n",
    "\n",
    "# Example usage\n",
    "initial_year = 1991\n",
    "final_year = 2024\n",
    "I4 = 23012  # Example I4 value\n",
    "F4 = calculate_pension_F4(I4, final_year)\n",
    "\n",
    "print(f\"Calculated Pension (F4): {F4}\")\n"
   ]
  },
  {
   "cell_type": "code",
   "execution_count": 101,
   "metadata": {},
   "outputs": [
    {
     "name": "stdout",
     "output_type": "stream",
     "text": [
      "[]\n",
      "Total Pension: 21086.03995548108\n"
     ]
    }
   ],
   "source": [
    "def pensione_retributiva(initial_year, final_year):\n",
    "    # Step 1: Calculate I1, I2, I3, and I4 using the previous functions\n",
    "    I1, I2, I3, I4 = calculate_I_values(initial_year, final_year)\n",
    "    \n",
    "    # Step 2: Calculate F1 using I1\n",
    "    F1 = calculate_pension_F1(I1, initial_year)\n",
    "\n",
    "    F2 = calculate_pension_F2(I2, initial_year)\n",
    "    \n",
    "    # Step 3: Calculate F2 (You can use a similar function for F2 if necessary)\n",
    "    # Assuming you already have the F2 formula similar to the previous ones.\n",
    "    \n",
    "    # Step 4: Calculate F3 using I3\n",
    "    F3 = calculate_pension_F3(I3, initial_year)\n",
    "    \n",
    "    # Step 5: Calculate F4 using I4\n",
    "    F4 = calculate_pension_F4(I4, final_year)\n",
    "    \n",
    "    # Step 6: Sum F1, F2, F3, and F4 to get the total pension\n",
    "    total_pension = F1 +F2+ F3 + F4  # Sum F1 to F4\n",
    "    \n",
    "    return total_pension\n",
    "\n",
    "# Example usage\n",
    "initial_year = 2010\n",
    "final_year = 2044\n",
    "total_pension = pensione_retributiva(initial_year, final_year)\n",
    "\n",
    "print(f\"Total Pension: {total_pension}\")\n"
   ]
  },
  {
   "cell_type": "code",
   "execution_count": 102,
   "metadata": {},
   "outputs": [
    {
     "name": "stdout",
     "output_type": "stream",
     "text": [
      "[43065.39564  42084.779476]\n"
     ]
    }
   ],
   "source": [
    "# Example usage\n",
    "initial_year = 2000\n",
    "final_year = 2034\n",
    "total_pension = pensione_retributiva(initial_year, final_year)"
   ]
  }
 ],
 "metadata": {
  "kernelspec": {
   "display_name": "base",
   "language": "python",
   "name": "python3"
  },
  "language_info": {
   "codemirror_mode": {
    "name": "ipython",
    "version": 3
   },
   "file_extension": ".py",
   "mimetype": "text/x-python",
   "name": "python",
   "nbconvert_exporter": "python",
   "pygments_lexer": "ipython3",
   "version": "3.12.7"
  }
 },
 "nbformat": 4,
 "nbformat_minor": 2
}
